{
  "nbformat": 4,
  "nbformat_minor": 0,
  "metadata": {
    "colab": {
      "provenance": [],
      "include_colab_link": true
    },
    "kernelspec": {
      "name": "python3",
      "display_name": "Python 3"
    },
    "language_info": {
      "name": "python"
    }
  },
  "cells": [
    {
      "cell_type": "markdown",
      "metadata": {
        "id": "view-in-github",
        "colab_type": "text"
      },
      "source": [
        "<a href=\"https://colab.research.google.com/github/huanthuytnhh/Google_Colab/blob/main/SVM.ipynb\" target=\"_parent\"><img src=\"https://colab.research.google.com/assets/colab-badge.svg\" alt=\"Open In Colab\"/></a>"
      ]
    },
    {
      "cell_type": "code",
      "execution_count": null,
      "metadata": {
        "colab": {
          "base_uri": "https://localhost:8080/"
        },
        "id": "YLGpbxrwuUWk",
        "outputId": "6e03985c-46a6-43c7-bbac-3d40e6fcbd01"
      },
      "outputs": [
        {
          "output_type": "stream",
          "name": "stdout",
          "text": [
            "Mounted at /content/drive\n",
            "/content/drive/MyDrive/Study/AI/Perceptron\n"
          ]
        }
      ],
      "source": [
        "# Author: Le Ngoc Thanh\n",
        "# Date: 14/03/2025\n",
        "# Description: Kết nối Google Colab vào Google Drive và chuyển đến thư mục làm việc\n",
        "\n",
        "# Kết nối Google Colab vào Google Drive\n",
        "from google.colab import drive\n",
        "drive.mount(\"/content/drive\")\n",
        "\n",
        "# Chuyển đến thư mục làm việc\n",
        "%cd /content/drive/MyDrive/Study/AI/Perceptron\n"
      ]
    },
    {
      "cell_type": "code",
      "source": [
        "!ls"
      ],
      "metadata": {
        "colab": {
          "base_uri": "https://localhost:8080/"
        },
        "id": "sBWU-NY1uZwq",
        "outputId": "ccd810bb-569c-4db1-d796-b336c9110c74"
      },
      "execution_count": null,
      "outputs": [
        {
          "output_type": "stream",
          "name": "stdout",
          "text": [
            " Perceptron.ipynb  'Single Layer Perceptron Dataset 2.csv'   SVM\n"
          ]
        }
      ]
    },
    {
      "cell_type": "code",
      "source": [
        "import numpy as np\n",
        "import matplotlib.pyplot as plt\n",
        "from cvxopt import matrix, solvers\n",
        "\n",
        "data = np.genfromtxt('Single Layer Perceptron Dataset 2.csv', delimiter=',', skip_header=1)\n",
        "\n",
        "\n",
        "data = data[~np.isnan(data).any(axis=1)]  # Loại bỏ dòng chứa dữ liệu không xác định\n",
        "\n",
        "X = data[:, 1:-1].T\n",
        "y = data[:, -1].reshape(1, -1)\n",
        "\n",
        "\n",
        "\n",
        "y = y.astype(int)\n",
        "y[y == 0] = -1     # Chuyển đổi nhãn lớp thành số nguyên và đưa giá trị 0 về -1 để phù hợp với SVM\n",
        "\n",
        "print(X)\n",
        "print(y)\n"
      ],
      "metadata": {
        "colab": {
          "base_uri": "https://localhost:8080/"
        },
        "id": "geJU314Bup9Y",
        "outputId": "419a5e65-2eb9-4156-9925-7914ac0330c8"
      },
      "execution_count": null,
      "outputs": [
        {
          "output_type": "stream",
          "name": "stdout",
          "text": [
            "[[1.   1.   1.   1.   1.   1.   1.   1.   1.   1.   1.   1.   1.  ]\n",
            " [0.08 0.1  0.26 0.35 0.45 0.6  0.7  0.92 0.42 0.65 0.2  0.2  0.85]\n",
            " [0.72 1.   0.58 0.95 0.15 0.3  0.65 0.45 0.85 0.55 0.3  1.   0.1 ]]\n",
            "[[ 1  1  1 -1  1  1 -1 -1 -1 -1  1 -1  1]]\n"
          ]
        }
      ]
    },
    {
      "cell_type": "code",
      "source": [
        "X0 = X[:, y.flatten() == 1]  # Lớp 1\n",
        "X1 = X[:, y.flatten() == -1]  # Lớp -1\n",
        "\n",
        "N0 = X0.shape[1]  # Số mẫu lớp 1\n",
        "N1 = X1.shape[1]  # Số mẫu lớp -1\n",
        "\n",
        "# Xây dựng V\n",
        "V = np.concatenate((X0, -X1), axis=1)\n",
        "K = matrix(V.T.dot(V).astype('double'))  # Ma trận Gram\n",
        "\n",
        "# Vector p (vector toàn -1)\n",
        "p = matrix(-np.ones((N0 + N1, 1), dtype='double'))\n",
        "\n",
        "# Ràng buộc G * lambda <= h (lambda >= 0)\n",
        "G = matrix(-np.eye(N0 + N1, dtype='double'))\n",
        "h = matrix(np.zeros((N0 + N1, 1), dtype='double'))\n",
        "\n",
        "# Ràng buộc A * lambda = b\n",
        "A = matrix(y.astype('double'))  # Định dạng y để phù hợp với CVXOPT\n",
        "b = matrix(np.zeros((1, 1), dtype='double'))\n",
        "\n",
        "# Giải bài toán quy hoạch bậc hai\n",
        "solvers.options['show_progress'] = False\n",
        "sol = solvers.qp(K, p, G, h, A, b)\n",
        "\n",
        "# Lấy giá trị lambda\n",
        "l = np.array(sol['x'])\n",
        "print('lambda = ')\n",
        "print(l.T)\n"
      ],
      "metadata": {
        "colab": {
          "base_uri": "https://localhost:8080/"
        },
        "id": "OoALtIYmvjYD",
        "outputId": "054d5d5f-b55a-44d4-db7e-dc302d44334a"
      },
      "execution_count": null,
      "outputs": [
        {
          "output_type": "stream",
          "name": "stdout",
          "text": [
            "lambda = \n",
            "[[1.16901392e-10 1.57925469e+02 7.46699328e-11 1.60495334e-11\n",
            "  8.48403879e-11 1.86464106e-10 1.04059442e+02 4.74264609e-14\n",
            "  3.95297267e-11 3.47391133e-11 3.30382725e-11 1.50999543e+02\n",
            "  9.71335162e+01]]\n"
          ]
        }
      ]
    },
    {
      "cell_type": "code",
      "source": [
        "epsilon = 1e-6 # just a small number, greater than 1e-9\n",
        "S = np.where(l > epsilon)[0]\n",
        "\n",
        "VS = V[:, S]\n",
        "XS = X[:, S]\n",
        "yS = y[:, S]\n",
        "lS = l[S]\n",
        "# calculate w and b\n",
        "w = VS.dot(lS)\n",
        "b = np.mean(yS.T - w.T.dot(XS))\n",
        "\n",
        "print('w = ', w.T)\n",
        "print('b = ', b)"
      ],
      "metadata": {
        "colab": {
          "base_uri": "https://localhost:8080/"
        },
        "id": "Y9yOkpwnwBLx",
        "outputId": "60429c4e-c4df-4bf5-d10a-402f55cbedc9"
      },
      "execution_count": null,
      "outputs": [
        {
          "output_type": "stream",
          "name": "stdout",
          "text": [
            "w =  [[ 13.85185184 -13.33333332 -11.85185184]]\n",
            "b =  0.4629629631584775\n"
          ]
        }
      ]
    }
  ]
}